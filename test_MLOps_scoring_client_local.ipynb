{
 "cells": [
  {
   "cell_type": "code",
   "execution_count": 1,
   "id": "3775d96c",
   "metadata": {},
   "outputs": [],
   "source": [
    "import h2o_mlops_scoring_client\n",
    "import os\n"
   ]
  },
  {
   "cell_type": "code",
   "execution_count": 2,
   "id": "dd14f0f2",
   "metadata": {},
   "outputs": [],
   "source": [
    "MLOPS_ENDPOINT_URL = \"https://model.cloud-qa.h2o.ai/b17dddbd-6d4b-4d83-b975-29466f4a6a24/model/score\"\n"
   ]
  },
  {
   "cell_type": "code",
   "execution_count": 3,
   "id": "d3fc67d9",
   "metadata": {},
   "outputs": [],
   "source": [
    "ID_COLUMN = \"ID\"\n",
    "SOURCE_DATA = \"/Users/kishani/h2oapps/Joe MLOps Scoring Test/gbm_data.csv\"\n",
    "SINK_LOCATION = \"/Users/kishani/h2oapps/Joe MLOps Scoring Test/output/\""
   ]
  },
  {
   "cell_type": "code",
   "execution_count": 4,
   "id": "737db199",
   "metadata": {},
   "outputs": [],
   "source": [
    "SOURCE_FORMAT = h2o_mlops_scoring_client.Format.CSV\n",
    "SINK_FORMAT = h2o_mlops_scoring_client.Format.CSV\n"
   ]
  },
  {
   "cell_type": "code",
   "execution_count": 5,
   "id": "69ce0ffe",
   "metadata": {},
   "outputs": [
    {
     "data": {
      "text/plain": [
       "'Overwrite existing files'"
      ]
     },
     "execution_count": 5,
     "metadata": {},
     "output_type": "execute_result"
    }
   ],
   "source": [
    "h2o_mlops_scoring_client.WriteMode.OVERWRITE.value\n"
   ]
  },
  {
   "cell_type": "code",
   "execution_count": 6,
   "id": "2aef341c",
   "metadata": {},
   "outputs": [],
   "source": [
    "SINK_WRITE_MODE = h2o_mlops_scoring_client.WriteMode.OVERWRITE\n"
   ]
  },
  {
   "cell_type": "code",
   "execution_count": 7,
   "id": "042c6d7e",
   "metadata": {},
   "outputs": [],
   "source": [
    "def preprocess(spark_df):\n",
    "    return spark_df.repartition(30)\n"
   ]
  },
  {
   "cell_type": "code",
   "execution_count": 8,
   "id": "84c01694",
   "metadata": {},
   "outputs": [
    {
     "name": "stderr",
     "output_type": "stream",
     "text": [
      "23/04/12 00:19:18 INFO h2o_mlops_scoring_client: Starting Spark context\n",
      "Setting default log level to \"WARN\".\n",
      "To adjust logging level use sc.setLogLevel(newLevel). For SparkR, use setLogLevel(newLevel).\n"
     ]
    },
    {
     "name": "stdout",
     "output_type": "stream",
     "text": [
      "23/04/12 00:19:30 WARN NativeCodeLoader: Unable to load native-hadoop library for your platform... using builtin-java classes where applicable\n"
     ]
    },
    {
     "name": "stderr",
     "output_type": "stream",
     "text": [
      "23/04/12 00:19:32 INFO h2o_mlops_scoring_client: Connecting to H2O.ai MLOps scorer at 'https://model.cloud-qa.h2o.ai/b17dddbd-6d4b-4d83-b975-29466f4a6a24/model/score'\n",
      "23/04/12 00:19:38 INFO h2o_mlops_scoring_client: Applying preprocess method\n",
      "23/04/12 00:19:38 INFO h2o_mlops_scoring_client: Starting scoring from '/Users/kishani/h2oapps/Joe MLOps Scoring Test/gbm_data.csv' to '/Users/kishani/h2oapps/Joe MLOps Scoring Test/output/'\n",
      "23/04/12 00:19:40 INFO h2o_mlops_scoring_client: Stopping Spark context\n"
     ]
    },
    {
     "ename": "AnalysisException",
     "evalue": "Column 'inq_last_6mths' does not exist. Did you mean one of the following? [INQ_LAST_6MNTHS, ADDR_STATE, ANNUAL_INC, DELINQ_2YRS, EMP_LENGTH, INT_RATE, LOAN_AMNT, PUB_REC, REVOL_BAL, REVOL_UTIL, TOTAL_ACC, DTI, HOME_OWNERSHIP, ID, INSTALLMENT, TERM, VERIFICATION_STATUS];\n'Project [ID#17, loan_amnt#18, term#19, int_rate#20, installment#21, emp_length#22, home_ownership#23, annual_inc#24, verification_status#25, addr_state#26, dti#27, delinq_2yrs#28, 'inq_last_6mths, pub_rec#30, revol_bal#31, revol_util#32, total_acc#33]\n+- Repartition 30, true\n   +- Relation [ID#17,LOAN_AMNT#18,TERM#19,INT_RATE#20,INSTALLMENT#21,EMP_LENGTH#22,HOME_OWNERSHIP#23,ANNUAL_INC#24,VERIFICATION_STATUS#25,ADDR_STATE#26,DTI#27,DELINQ_2YRS#28,INQ_LAST_6MNTHS#29,PUB_REC#30,REVOL_BAL#31,REVOL_UTIL#32,TOTAL_ACC#33] csv\n",
     "output_type": "error",
     "traceback": [
      "\u001b[0;31m---------------------------------------------------------------------------\u001b[0m",
      "\u001b[0;31mAnalysisException\u001b[0m                         Traceback (most recent call last)",
      "Cell \u001b[0;32mIn[8], line 1\u001b[0m\n\u001b[0;32m----> 1\u001b[0m \u001b[43mh2o_mlops_scoring_client\u001b[49m\u001b[38;5;241;43m.\u001b[39;49m\u001b[43mscore_source_sink\u001b[49m\u001b[43m(\u001b[49m\n\u001b[1;32m      2\u001b[0m \u001b[43m    \u001b[49m\u001b[43mmlops_endpoint_url\u001b[49m\u001b[38;5;241;43m=\u001b[39;49m\u001b[43mMLOPS_ENDPOINT_URL\u001b[49m\u001b[43m,\u001b[49m\n\u001b[1;32m      3\u001b[0m \u001b[43m    \u001b[49m\u001b[43mid_column\u001b[49m\u001b[38;5;241;43m=\u001b[39;49m\u001b[43mID_COLUMN\u001b[49m\u001b[43m,\u001b[49m\n\u001b[1;32m      4\u001b[0m \u001b[43m    \u001b[49m\u001b[43msource_data\u001b[49m\u001b[38;5;241;43m=\u001b[39;49m\u001b[43mSOURCE_DATA\u001b[49m\u001b[43m,\u001b[49m\n\u001b[1;32m      5\u001b[0m \u001b[43m    \u001b[49m\u001b[43msource_format\u001b[49m\u001b[38;5;241;43m=\u001b[39;49m\u001b[43mSOURCE_FORMAT\u001b[49m\u001b[43m,\u001b[49m\n\u001b[1;32m      6\u001b[0m \u001b[43m    \u001b[49m\u001b[43msink_location\u001b[49m\u001b[38;5;241;43m=\u001b[39;49m\u001b[43mSINK_LOCATION\u001b[49m\u001b[43m,\u001b[49m\n\u001b[1;32m      7\u001b[0m \u001b[43m    \u001b[49m\u001b[43msink_format\u001b[49m\u001b[38;5;241;43m=\u001b[39;49m\u001b[43mSINK_FORMAT\u001b[49m\u001b[43m,\u001b[49m\n\u001b[1;32m      8\u001b[0m \u001b[43m    \u001b[49m\u001b[43msink_write_mode\u001b[49m\u001b[38;5;241;43m=\u001b[39;49m\u001b[43mSINK_WRITE_MODE\u001b[49m\u001b[43m,\u001b[49m\n\u001b[1;32m      9\u001b[0m \u001b[43m    \u001b[49m\u001b[43mpreprocess_method\u001b[49m\u001b[38;5;241;43m=\u001b[39;49m\u001b[43mpreprocess\u001b[49m\u001b[43m,\u001b[49m\n\u001b[1;32m     10\u001b[0m \u001b[43m)\u001b[49m \n",
      "File \u001b[0;32m/usr/local/lib/python3.11/site-packages/h2o_mlops_scoring_client/__init__.py:131\u001b[0m, in \u001b[0;36mscore_source_sink\u001b[0;34m(mlops_endpoint_url, id_column, source_data, source_format, sink_location, sink_format, sink_write_mode, preprocess_method, postprocess_method, mini_batch_size, spark_config_overrides)\u001b[0m\n\u001b[1;32m    129\u001b[0m logger\u001b[38;5;241m.\u001b[39minfo(\u001b[38;5;124mf\u001b[39m\u001b[38;5;124m\"\u001b[39m\u001b[38;5;124mStarting scoring from \u001b[39m\u001b[38;5;124m'\u001b[39m\u001b[38;5;132;01m{\u001b[39;00msource_data\u001b[38;5;132;01m}\u001b[39;00m\u001b[38;5;124m'\u001b[39m\u001b[38;5;124m to \u001b[39m\u001b[38;5;124m'\u001b[39m\u001b[38;5;132;01m{\u001b[39;00msink_location\u001b[38;5;132;01m}\u001b[39;00m\u001b[38;5;124m'\u001b[39m\u001b[38;5;124m\"\u001b[39m)\n\u001b[1;32m    130\u001b[0m start_scoring \u001b[38;5;241m=\u001b[39m _datetime\u001b[38;5;241m.\u001b[39mdatetime\u001b[38;5;241m.\u001b[39mnow()\u001b[38;5;241m.\u001b[39mreplace(microsecond\u001b[38;5;241m=\u001b[39m\u001b[38;5;241m0\u001b[39m)\n\u001b[0;32m--> 131\u001b[0m scored_sdf \u001b[38;5;241m=\u001b[39m \u001b[43mmlops_endpoint\u001b[49m\u001b[38;5;241;43m.\u001b[39;49m\u001b[43mscore_spark_dataframe\u001b[49m\u001b[43m(\u001b[49m\u001b[43msdf\u001b[49m\u001b[43m,\u001b[49m\u001b[43m \u001b[49m\u001b[43mid_column\u001b[49m\u001b[38;5;241;43m=\u001b[39;49m\u001b[43mid_column\u001b[49m\u001b[43m)\u001b[49m\n\u001b[1;32m    133\u001b[0m \u001b[38;5;28;01mif\u001b[39;00m postprocess_method:\n\u001b[1;32m    134\u001b[0m     logger\u001b[38;5;241m.\u001b[39minfo(\u001b[38;5;124m\"\u001b[39m\u001b[38;5;124mApplying postprocess method\u001b[39m\u001b[38;5;124m\"\u001b[39m)\n",
      "File \u001b[0;32m/usr/local/lib/python3.11/site-packages/h2o_mlops_scoring_client/_utils.py:203\u001b[0m, in \u001b[0;36mMLOpsEndpoint.score_spark_dataframe\u001b[0;34m(self, sdf, id_column)\u001b[0m\n\u001b[1;32m    199\u001b[0m input_columns \u001b[38;5;241m=\u001b[39m [id_column] \u001b[38;5;241m+\u001b[39m [c[\u001b[38;5;124m\"\u001b[39m\u001b[38;5;124mname\u001b[39m\u001b[38;5;124m\"\u001b[39m] \u001b[38;5;28;01mfor\u001b[39;00m c \u001b[38;5;129;01min\u001b[39;00m \u001b[38;5;28mself\u001b[39m\u001b[38;5;241m.\u001b[39mschema[\u001b[38;5;124m\"\u001b[39m\u001b[38;5;124minputFields\u001b[39m\u001b[38;5;124m\"\u001b[39m]]\n\u001b[1;32m    200\u001b[0m output_schema \u001b[38;5;241m=\u001b[39m _pyspark_sql_types\u001b[38;5;241m.\u001b[39mStructType(\n\u001b[1;32m    201\u001b[0m     [sdf\u001b[38;5;241m.\u001b[39mschema[id_column]] \u001b[38;5;241m+\u001b[39m [f \u001b[38;5;28;01mfor\u001b[39;00m f \u001b[38;5;129;01min\u001b[39;00m \u001b[38;5;28mself\u001b[39m\u001b[38;5;241m.\u001b[39mschema_spark_output]\n\u001b[1;32m    202\u001b[0m )\n\u001b[0;32m--> 203\u001b[0m scores \u001b[38;5;241m=\u001b[39m \u001b[43msdf\u001b[49m\u001b[38;5;241;43m.\u001b[39;49m\u001b[43mselect\u001b[49m\u001b[43m(\u001b[49m\u001b[43minput_columns\u001b[49m\u001b[43m)\u001b[49m\u001b[38;5;241m.\u001b[39mmapInPandas(\n\u001b[1;32m    204\u001b[0m     score_pandas_dataframe_spark, schema\u001b[38;5;241m=\u001b[39moutput_schema  \u001b[38;5;66;03m# type: ignore\u001b[39;00m\n\u001b[1;32m    205\u001b[0m )\n\u001b[1;32m    206\u001b[0m \u001b[38;5;66;03m# ^ mypy says incompatible type and I don't know how to fix it\u001b[39;00m\n\u001b[1;32m    208\u001b[0m \u001b[38;5;28;01mreturn\u001b[39;00m scores\n",
      "File \u001b[0;32m/usr/local/lib/python3.11/site-packages/pyspark/sql/dataframe.py:2023\u001b[0m, in \u001b[0;36mDataFrame.select\u001b[0;34m(self, *cols)\u001b[0m\n\u001b[1;32m   2002\u001b[0m \u001b[38;5;28;01mdef\u001b[39;00m \u001b[38;5;21mselect\u001b[39m(\u001b[38;5;28mself\u001b[39m, \u001b[38;5;241m*\u001b[39mcols: \u001b[38;5;124m\"\u001b[39m\u001b[38;5;124mColumnOrName\u001b[39m\u001b[38;5;124m\"\u001b[39m) \u001b[38;5;241m-\u001b[39m\u001b[38;5;241m>\u001b[39m \u001b[38;5;124m\"\u001b[39m\u001b[38;5;124mDataFrame\u001b[39m\u001b[38;5;124m\"\u001b[39m:  \u001b[38;5;66;03m# type: ignore[misc]\u001b[39;00m\n\u001b[1;32m   2003\u001b[0m \u001b[38;5;250m    \u001b[39m\u001b[38;5;124;03m\"\"\"Projects a set of expressions and returns a new :class:`DataFrame`.\u001b[39;00m\n\u001b[1;32m   2004\u001b[0m \n\u001b[1;32m   2005\u001b[0m \u001b[38;5;124;03m    .. versionadded:: 1.3.0\u001b[39;00m\n\u001b[0;32m   (...)\u001b[0m\n\u001b[1;32m   2021\u001b[0m \u001b[38;5;124;03m    [Row(name='Alice', age=12), Row(name='Bob', age=15)]\u001b[39;00m\n\u001b[1;32m   2022\u001b[0m \u001b[38;5;124;03m    \"\"\"\u001b[39;00m\n\u001b[0;32m-> 2023\u001b[0m     jdf \u001b[38;5;241m=\u001b[39m \u001b[38;5;28;43mself\u001b[39;49m\u001b[38;5;241;43m.\u001b[39;49m\u001b[43m_jdf\u001b[49m\u001b[38;5;241;43m.\u001b[39;49m\u001b[43mselect\u001b[49m\u001b[43m(\u001b[49m\u001b[38;5;28;43mself\u001b[39;49m\u001b[38;5;241;43m.\u001b[39;49m\u001b[43m_jcols\u001b[49m\u001b[43m(\u001b[49m\u001b[38;5;241;43m*\u001b[39;49m\u001b[43mcols\u001b[49m\u001b[43m)\u001b[49m\u001b[43m)\u001b[49m\n\u001b[1;32m   2024\u001b[0m     \u001b[38;5;28;01mreturn\u001b[39;00m DataFrame(jdf, \u001b[38;5;28mself\u001b[39m\u001b[38;5;241m.\u001b[39msparkSession)\n",
      "File \u001b[0;32m/usr/local/lib/python3.11/site-packages/py4j/java_gateway.py:1321\u001b[0m, in \u001b[0;36mJavaMember.__call__\u001b[0;34m(self, *args)\u001b[0m\n\u001b[1;32m   1315\u001b[0m command \u001b[38;5;241m=\u001b[39m proto\u001b[38;5;241m.\u001b[39mCALL_COMMAND_NAME \u001b[38;5;241m+\u001b[39m\\\n\u001b[1;32m   1316\u001b[0m     \u001b[38;5;28mself\u001b[39m\u001b[38;5;241m.\u001b[39mcommand_header \u001b[38;5;241m+\u001b[39m\\\n\u001b[1;32m   1317\u001b[0m     args_command \u001b[38;5;241m+\u001b[39m\\\n\u001b[1;32m   1318\u001b[0m     proto\u001b[38;5;241m.\u001b[39mEND_COMMAND_PART\n\u001b[1;32m   1320\u001b[0m answer \u001b[38;5;241m=\u001b[39m \u001b[38;5;28mself\u001b[39m\u001b[38;5;241m.\u001b[39mgateway_client\u001b[38;5;241m.\u001b[39msend_command(command)\n\u001b[0;32m-> 1321\u001b[0m return_value \u001b[38;5;241m=\u001b[39m \u001b[43mget_return_value\u001b[49m\u001b[43m(\u001b[49m\n\u001b[1;32m   1322\u001b[0m \u001b[43m    \u001b[49m\u001b[43manswer\u001b[49m\u001b[43m,\u001b[49m\u001b[43m \u001b[49m\u001b[38;5;28;43mself\u001b[39;49m\u001b[38;5;241;43m.\u001b[39;49m\u001b[43mgateway_client\u001b[49m\u001b[43m,\u001b[49m\u001b[43m \u001b[49m\u001b[38;5;28;43mself\u001b[39;49m\u001b[38;5;241;43m.\u001b[39;49m\u001b[43mtarget_id\u001b[49m\u001b[43m,\u001b[49m\u001b[43m \u001b[49m\u001b[38;5;28;43mself\u001b[39;49m\u001b[38;5;241;43m.\u001b[39;49m\u001b[43mname\u001b[49m\u001b[43m)\u001b[49m\n\u001b[1;32m   1324\u001b[0m \u001b[38;5;28;01mfor\u001b[39;00m temp_arg \u001b[38;5;129;01min\u001b[39;00m temp_args:\n\u001b[1;32m   1325\u001b[0m     temp_arg\u001b[38;5;241m.\u001b[39m_detach()\n",
      "File \u001b[0;32m/usr/local/lib/python3.11/site-packages/pyspark/sql/utils.py:196\u001b[0m, in \u001b[0;36mcapture_sql_exception.<locals>.deco\u001b[0;34m(*a, **kw)\u001b[0m\n\u001b[1;32m    192\u001b[0m converted \u001b[38;5;241m=\u001b[39m convert_exception(e\u001b[38;5;241m.\u001b[39mjava_exception)\n\u001b[1;32m    193\u001b[0m \u001b[38;5;28;01mif\u001b[39;00m \u001b[38;5;129;01mnot\u001b[39;00m \u001b[38;5;28misinstance\u001b[39m(converted, UnknownException):\n\u001b[1;32m    194\u001b[0m     \u001b[38;5;66;03m# Hide where the exception came from that shows a non-Pythonic\u001b[39;00m\n\u001b[1;32m    195\u001b[0m     \u001b[38;5;66;03m# JVM exception message.\u001b[39;00m\n\u001b[0;32m--> 196\u001b[0m     \u001b[38;5;28;01mraise\u001b[39;00m converted \u001b[38;5;28;01mfrom\u001b[39;00m \u001b[38;5;28;01mNone\u001b[39;00m\n\u001b[1;32m    197\u001b[0m \u001b[38;5;28;01melse\u001b[39;00m:\n\u001b[1;32m    198\u001b[0m     \u001b[38;5;28;01mraise\u001b[39;00m\n",
      "\u001b[0;31mAnalysisException\u001b[0m: Column 'inq_last_6mths' does not exist. Did you mean one of the following? [INQ_LAST_6MNTHS, ADDR_STATE, ANNUAL_INC, DELINQ_2YRS, EMP_LENGTH, INT_RATE, LOAN_AMNT, PUB_REC, REVOL_BAL, REVOL_UTIL, TOTAL_ACC, DTI, HOME_OWNERSHIP, ID, INSTALLMENT, TERM, VERIFICATION_STATUS];\n'Project [ID#17, loan_amnt#18, term#19, int_rate#20, installment#21, emp_length#22, home_ownership#23, annual_inc#24, verification_status#25, addr_state#26, dti#27, delinq_2yrs#28, 'inq_last_6mths, pub_rec#30, revol_bal#31, revol_util#32, total_acc#33]\n+- Repartition 30, true\n   +- Relation [ID#17,LOAN_AMNT#18,TERM#19,INT_RATE#20,INSTALLMENT#21,EMP_LENGTH#22,HOME_OWNERSHIP#23,ANNUAL_INC#24,VERIFICATION_STATUS#25,ADDR_STATE#26,DTI#27,DELINQ_2YRS#28,INQ_LAST_6MNTHS#29,PUB_REC#30,REVOL_BAL#31,REVOL_UTIL#32,TOTAL_ACC#33] csv\n"
     ]
    }
   ],
   "source": [
    "h2o_mlops_scoring_client.score_source_sink(\n",
    "    mlops_endpoint_url=MLOPS_ENDPOINT_URL,\n",
    "    id_column=ID_COLUMN,\n",
    "    source_data=SOURCE_DATA,\n",
    "    source_format=SOURCE_FORMAT,\n",
    "    sink_location=SINK_LOCATION,\n",
    "    sink_format=SINK_FORMAT,\n",
    "    sink_write_mode=SINK_WRITE_MODE,\n",
    "    preprocess_method=preprocess,\n",
    ") \n"
   ]
  }
 ],
 "metadata": {
  "kernelspec": {
   "display_name": "venv",
   "language": "python",
   "name": "venv"
  },
  "language_info": {
   "codemirror_mode": {
    "name": "ipython",
    "version": 3
   },
   "file_extension": ".py",
   "mimetype": "text/x-python",
   "name": "python",
   "nbconvert_exporter": "python",
   "pygments_lexer": "ipython3",
   "version": "3.11.3"
  }
 },
 "nbformat": 4,
 "nbformat_minor": 5
}
