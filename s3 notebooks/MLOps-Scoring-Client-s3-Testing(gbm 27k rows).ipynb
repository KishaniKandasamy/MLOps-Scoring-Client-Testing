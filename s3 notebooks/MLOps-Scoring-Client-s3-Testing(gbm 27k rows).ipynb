{
 "cells": [
  {
   "cell_type": "code",
   "execution_count": 1,
   "id": "fa413407",
   "metadata": {},
   "outputs": [],
   "source": [
    "import h2o_mlops_scoring_client\n",
    "import os"
   ]
  },
  {
   "cell_type": "code",
   "execution_count": 2,
   "id": "bb43b702",
   "metadata": {},
   "outputs": [],
   "source": [
    "h2o_mlops_scoring_client.spark_conf_dir = os.path.expanduser(\"/Users/kishani/h2oapps/Joe MLOps Scoring Test/s3_conf\")"
   ]
  },
  {
   "cell_type": "code",
   "execution_count": 3,
   "id": "34139baf",
   "metadata": {},
   "outputs": [],
   "source": [
    "MLOPS_ENDPOINT_URL = \"https://model.cloud-qa.h2o.ai/b17dddbd-6d4b-4d83-b975-29466f4a6a24/model/score\""
   ]
  },
  {
   "cell_type": "code",
   "execution_count": 4,
   "id": "4be2b294",
   "metadata": {},
   "outputs": [],
   "source": [
    "ID_COLUMN = \"ID\"\n",
    "SOURCE_DATA = \"s3a://mlopsscoringclienttesting/gbm_27k_rows.csv\"\n",
    "SINK_LOCATION = \"s3a://mlopsscoringclienttesting/output/\""
   ]
  },
  {
   "cell_type": "code",
   "execution_count": 5,
   "id": "beebb9a8",
   "metadata": {},
   "outputs": [],
   "source": [
    "SOURCE_FORMAT = h2o_mlops_scoring_client.Format.CSV\n",
    "SINK_FORMAT = h2o_mlops_scoring_client.Format.PARQUET"
   ]
  },
  {
   "cell_type": "code",
   "execution_count": 6,
   "id": "3cb7c4c5",
   "metadata": {},
   "outputs": [
    {
     "data": {
      "text/plain": [
       "'Overwrite existing files'"
      ]
     },
     "execution_count": 6,
     "metadata": {},
     "output_type": "execute_result"
    }
   ],
   "source": [
    "h2o_mlops_scoring_client.WriteMode.OVERWRITE.value"
   ]
  },
  {
   "cell_type": "code",
   "execution_count": 7,
   "id": "90e5e4db",
   "metadata": {},
   "outputs": [],
   "source": [
    "SINK_WRITE_MODE = h2o_mlops_scoring_client.WriteMode.OVERWRITE\n"
   ]
  },
  {
   "cell_type": "code",
   "execution_count": 8,
   "id": "40ca677b",
   "metadata": {},
   "outputs": [],
   "source": [
    "def preprocess(spark_df):\n",
    "    return spark_df.repartition(30)"
   ]
  },
  {
   "cell_type": "code",
   "execution_count": 9,
   "id": "db734fde",
   "metadata": {},
   "outputs": [
    {
     "name": "stderr",
     "output_type": "stream",
     "text": [
      "23/04/27 21:00:45 INFO h2o_mlops_scoring_client: Starting Spark context\n"
     ]
    },
    {
     "name": "stdout",
     "output_type": "stream",
     "text": [
      ":: loading settings :: url = jar:file:/Users/kishani/h2oapps/Joe%20MLOps%20Scoring%20Test/venv/lib/python3.8/site-packages/pyspark/jars/ivy-2.5.1.jar!/org/apache/ivy/core/settings/ivysettings.xml\n"
     ]
    },
    {
     "name": "stderr",
     "output_type": "stream",
     "text": [
      "Ivy Default Cache set to: /Users/kishani/.ivy2/cache\n",
      "The jars for the packages stored in: /Users/kishani/.ivy2/jars\n",
      "org.apache.hadoop#hadoop-aws added as a dependency\n",
      ":: resolving dependencies :: org.apache.spark#spark-submit-parent-5cce84a6-83c5-405a-93e6-aee7285d5157;1.0\n",
      "\tconfs: [default]\n",
      "\tfound org.apache.hadoop#hadoop-aws;3.3.4 in central\n",
      "\tfound com.amazonaws#aws-java-sdk-bundle;1.12.262 in central\n",
      "\tfound org.wildfly.openssl#wildfly-openssl;1.0.7.Final in central\n",
      ":: resolution report :: resolve 187ms :: artifacts dl 6ms\n",
      "\t:: modules in use:\n",
      "\tcom.amazonaws#aws-java-sdk-bundle;1.12.262 from central in [default]\n",
      "\torg.apache.hadoop#hadoop-aws;3.3.4 from central in [default]\n",
      "\torg.wildfly.openssl#wildfly-openssl;1.0.7.Final from central in [default]\n",
      "\t---------------------------------------------------------------------\n",
      "\t|                  |            modules            ||   artifacts   |\n",
      "\t|       conf       | number| search|dwnlded|evicted|| number|dwnlded|\n",
      "\t---------------------------------------------------------------------\n",
      "\t|      default     |   3   |   0   |   0   |   0   ||   3   |   0   |\n",
      "\t---------------------------------------------------------------------\n",
      ":: retrieving :: org.apache.spark#spark-submit-parent-5cce84a6-83c5-405a-93e6-aee7285d5157\n",
      "\tconfs: [default]\n",
      "\t0 artifacts copied, 3 already retrieved (0kB/4ms)\n",
      "23/04/27 21:00:55 WARN NativeCodeLoader: Unable to load native-hadoop library for your platform... using builtin-java classes where applicable\n",
      "Setting default log level to \"WARN\".\n",
      "To adjust logging level use sc.setLogLevel(newLevel). For SparkR, use setLogLevel(newLevel).\n",
      "23/04/27 21:00:58 INFO h2o_mlops_scoring_client: Connecting to H2O.ai MLOps scorer at 'https://model.cloud-qa.h2o.ai/b17dddbd-6d4b-4d83-b975-29466f4a6a24/model/score'\n",
      "23/04/27 21:01:00 WARN MetricsConfig: Cannot locate configuration: tried hadoop-metrics2-s3a-file-system.properties,hadoop-metrics2.properties\n",
      "23/04/27 21:01:19 INFO h2o_mlops_scoring_client: Applying preprocess method     \n",
      "23/04/27 21:01:19 INFO h2o_mlops_scoring_client: Starting scoring from 's3a://mlopsscoringclienttesting/gbm_27k_rows.csv' to 's3a://mlopsscoringclienttesting/output/'\n",
      "23/04/27 21:06:47 INFO h2o_mlops_scoring_client: Scoring complete               \n",
      "23/04/27 21:06:47 INFO h2o_mlops_scoring_client: Total run time: 0:06:02\n",
      "23/04/27 21:06:47 INFO h2o_mlops_scoring_client: Scoring run time: 0:05:28\n",
      "23/04/27 21:06:47 INFO h2o_mlops_scoring_client: Stopping Spark context\n"
     ]
    }
   ],
   "source": [
    "h2o_mlops_scoring_client.score_source_sink(\n",
    "    mlops_endpoint_url=MLOPS_ENDPOINT_URL,\n",
    "    id_column=ID_COLUMN,\n",
    "    source_data=SOURCE_DATA,\n",
    "    source_format=SOURCE_FORMAT,\n",
    "    sink_location=SINK_LOCATION,\n",
    "    sink_format=SINK_FORMAT,\n",
    "    sink_write_mode=SINK_WRITE_MODE,\n",
    "    preprocess_method=preprocess,\n",
    ") "
   ]
  },
  {
   "cell_type": "code",
   "execution_count": null,
   "id": "eb14a58c",
   "metadata": {},
   "outputs": [],
   "source": []
  }
 ],
 "metadata": {
  "kernelspec": {
   "display_name": "Python 3 (ipykernel)",
   "language": "python",
   "name": "python3"
  },
  "language_info": {
   "codemirror_mode": {
    "name": "ipython",
    "version": 3
   },
   "file_extension": ".py",
   "mimetype": "text/x-python",
   "name": "python",
   "nbconvert_exporter": "python",
   "pygments_lexer": "ipython3",
   "version": "3.8.16"
  }
 },
 "nbformat": 4,
 "nbformat_minor": 5
}
