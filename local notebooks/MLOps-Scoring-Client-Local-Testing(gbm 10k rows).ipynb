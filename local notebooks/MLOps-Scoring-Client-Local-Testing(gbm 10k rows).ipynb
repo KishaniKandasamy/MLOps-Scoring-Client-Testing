{
 "cells": [
  {
   "cell_type": "code",
   "execution_count": 1,
   "id": "861e0603",
   "metadata": {},
   "outputs": [],
   "source": [
    "import h2o_mlops_scoring_client\n",
    "import os"
   ]
  },
  {
   "cell_type": "code",
   "execution_count": 2,
   "id": "54edffd2",
   "metadata": {},
   "outputs": [],
   "source": [
    "MLOPS_ENDPOINT_URL = \"https://model.cloud-qa.h2o.ai/b17dddbd-6d4b-4d83-b975-29466f4a6a24/model/score\""
   ]
  },
  {
   "cell_type": "code",
   "execution_count": 3,
   "id": "7fcc08af",
   "metadata": {},
   "outputs": [],
   "source": [
    "ID_COLUMN = \"ID\"\n",
    "SOURCE_DATA = \"/Users/kishani/h2oapps/Joe MLOps Scoring Test/gbm_10k_rows.csv\"\n",
    "SINK_LOCATION = \"/Users/kishani/h2oapps/Joe MLOps Scoring Test/output/\""
   ]
  },
  {
   "cell_type": "code",
   "execution_count": 4,
   "id": "938f70c8",
   "metadata": {},
   "outputs": [],
   "source": [
    "SOURCE_FORMAT = h2o_mlops_scoring_client.Format.CSV\n",
    "SINK_FORMAT = h2o_mlops_scoring_client.Format.CSV"
   ]
  },
  {
   "cell_type": "code",
   "execution_count": 5,
   "id": "88b9e6f1",
   "metadata": {},
   "outputs": [
    {
     "data": {
      "text/plain": [
       "'Overwrite existing files'"
      ]
     },
     "execution_count": 5,
     "metadata": {},
     "output_type": "execute_result"
    }
   ],
   "source": [
    "h2o_mlops_scoring_client.WriteMode.OVERWRITE.value"
   ]
  },
  {
   "cell_type": "code",
   "execution_count": 6,
   "id": "171c478f",
   "metadata": {},
   "outputs": [],
   "source": [
    "SINK_WRITE_MODE = h2o_mlops_scoring_client.WriteMode.OVERWRITE"
   ]
  },
  {
   "cell_type": "code",
   "execution_count": 7,
   "id": "af04ed30",
   "metadata": {},
   "outputs": [],
   "source": [
    "def preprocess(spark_df):\n",
    "    return spark_df.repartition(30)"
   ]
  },
  {
   "cell_type": "code",
   "execution_count": 8,
   "id": "be0c1f02",
   "metadata": {},
   "outputs": [
    {
     "name": "stderr",
     "output_type": "stream",
     "text": [
      "23/04/26 11:32:30 INFO h2o_mlops_scoring_client: Starting Spark context\n",
      "Setting default log level to \"WARN\".\n",
      "To adjust logging level use sc.setLogLevel(newLevel). For SparkR, use setLogLevel(newLevel).\n",
      "23/04/26 11:32:33 WARN NativeCodeLoader: Unable to load native-hadoop library for your platform... using builtin-java classes where applicable\n",
      "23/04/26 11:32:34 INFO h2o_mlops_scoring_client: Connecting to H2O.ai MLOps scorer at 'https://model.cloud-qa.h2o.ai/b17dddbd-6d4b-4d83-b975-29466f4a6a24/model/score'\n",
      "23/04/26 11:32:38 INFO h2o_mlops_scoring_client: Applying preprocess method\n",
      "23/04/26 11:32:38 INFO h2o_mlops_scoring_client: Starting scoring from '/Users/kishani/h2oapps/Joe MLOps Scoring Test/gbm_10k_rows.csv' to '/Users/kishani/h2oapps/Joe MLOps Scoring Test/output/'\n",
      "23/04/26 11:32:55 INFO h2o_mlops_scoring_client: Scoring complete               \n",
      "23/04/26 11:32:55 INFO h2o_mlops_scoring_client: Total run time: 0:00:25\n",
      "23/04/26 11:32:55 INFO h2o_mlops_scoring_client: Scoring run time: 0:00:17\n",
      "23/04/26 11:32:55 INFO h2o_mlops_scoring_client: Stopping Spark context\n"
     ]
    }
   ],
   "source": [
    "h2o_mlops_scoring_client.score_source_sink(\n",
    "    mlops_endpoint_url=MLOPS_ENDPOINT_URL,\n",
    "    id_column=ID_COLUMN,\n",
    "    source_data=SOURCE_DATA,\n",
    "    source_format=SOURCE_FORMAT,\n",
    "    sink_location=SINK_LOCATION,\n",
    "    sink_format=SINK_FORMAT,\n",
    "    sink_write_mode=SINK_WRITE_MODE,\n",
    "    preprocess_method=preprocess,\n",
    ") "
   ]
  }
 ],
 "metadata": {
  "kernelspec": {
   "display_name": "Python 3 (ipykernel)",
   "language": "python",
   "name": "python3"
  },
  "language_info": {
   "codemirror_mode": {
    "name": "ipython",
    "version": 3
   },
   "file_extension": ".py",
   "mimetype": "text/x-python",
   "name": "python",
   "nbconvert_exporter": "python",
   "pygments_lexer": "ipython3",
   "version": "3.8.16"
  }
 },
 "nbformat": 4,
 "nbformat_minor": 5
}
